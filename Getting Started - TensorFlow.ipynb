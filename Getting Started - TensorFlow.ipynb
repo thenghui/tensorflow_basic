{
 "cells": [
  {
   "cell_type": "markdown",
   "metadata": {},
   "source": [
    "# Getting Started - TensorFlow"
   ]
  },
  {
   "cell_type": "markdown",
   "metadata": {},
   "source": [
    "### Using VirtualEnv\n",
    "\n",
    "> ``` pip install virtualenv ```\n",
    "\n",
    "> ``` virtualenv -p <python_bin> <virtual_name> ```\n",
    "\n",
    "> ``` source bin/activate ```\n",
    "\n",
    "e.g.\n",
    "> ``` virtualenv -p /usr/local/bin/python3.6 tensorlab ```\n",
    "\n"
   ]
  },
  {
   "cell_type": "markdown",
   "metadata": {},
   "source": [
    "### Installing TensorFlow\n",
    "#### Linux, Mac OSX, Windows\n",
    "\n",
    "> ``` pip install tensorflow ```\n",
    "\n",
    "\n",
    "From source\n",
    "\n",
    "- bazel ... \n",
    "\n",
    "- https://www.tensorflow.org/install/install_sources\n",
    "\n",
    "- Google search/Community help\n"
   ]
  },
  {
   "cell_type": "markdown",
   "metadata": {},
   "source": [
    "### Check Installation & Version\n",
    "\n",
    "\n",
    "```python\n",
    "(tensorlab) mbpNano:tensorlab thenghui$ python\n",
    "Python 3.6.0 (v3.6.0:41df79263a11, Dec 22 2016, 17:23:13) \n",
    "[GCC 4.2.1 (Apple Inc. build 5666) (dot 3)] on darwin\n",
    "Type \"help\", \"copyright\", \"credits\" or \"license\" for more information.\n",
    ">>> import tensorflow as tf\n",
    ">>> tf.__version__\n",
    "'1.12.0'\n",
    ">>> \n",
    "```\n"
   ]
  },
  {
   "cell_type": "markdown",
   "metadata": {},
   "source": [
    "### Constant, Variable, Placeholder"
   ]
  },
  {
   "cell_type": "code",
   "execution_count": 1,
   "metadata": {},
   "outputs": [
    {
     "name": "stderr",
     "output_type": "stream",
     "text": [
      "/Users/thenghui/anaconda3/lib/python3.5/importlib/_bootstrap.py:222: RuntimeWarning: compiletime version 3.6 of module 'tensorflow.python.framework.fast_tensor_util' does not match runtime version 3.5\n",
      "  return f(*args, **kwds)\n"
     ]
    }
   ],
   "source": [
    "import tensorflow as tf"
   ]
  },
  {
   "cell_type": "markdown",
   "metadata": {},
   "source": [
    "##### Constant\n",
    "- The way to calculate a value."
   ]
  },
  {
   "cell_type": "code",
   "execution_count": 4,
   "metadata": {},
   "outputs": [
    {
     "name": "stdout",
     "output_type": "stream",
     "text": [
      "Tensor(\"MatMul_1:0\", shape=(1, 1), dtype=int32)\n"
     ]
    }
   ],
   "source": [
    "x = tf.constant([[2,4]])\n",
    "y = tf.constant([[8],[7]])\n",
    "z = tf.matmul(x,y) # no calculation happens at this line\n",
    "print(z)"
   ]
  },
  {
   "cell_type": "code",
   "execution_count": 5,
   "metadata": {},
   "outputs": [
    {
     "name": "stdout",
     "output_type": "stream",
     "text": [
      "Tensor(\"MatMul_1:0\", shape=(1, 1), dtype=int32)\n",
      "[[44]]\n"
     ]
    }
   ],
   "source": [
    "sess = tf.Session()\n",
    "result = sess.run(z) # a sess comes with a graph\n",
    "print(z)\n",
    "print(result) # calculation happens here!\n",
    "sess.close()"
   ]
  },
  {
   "cell_type": "markdown",
   "metadata": {},
   "source": [
    "\n",
    "- Another simpler way to use session:"
   ]
  },
  {
   "cell_type": "code",
   "execution_count": 10,
   "metadata": {},
   "outputs": [
    {
     "name": "stdout",
     "output_type": "stream",
     "text": [
      "8\n"
     ]
    }
   ],
   "source": [
    "a = tf.constant(2)\n",
    "b = tf.constant(4)\n",
    "c = tf.multiply(a,b)\n",
    "with tf.Session() as sess:\n",
    "    result2 = sess.run(c)\n",
    "    print(result2)"
   ]
  },
  {
   "cell_type": "markdown",
   "metadata": {},
   "source": [
    "##### Variable\n",
    "- How to use a Variable?"
   ]
  },
  {
   "cell_type": "code",
   "execution_count": 12,
   "metadata": {},
   "outputs": [
    {
     "name": "stdout",
     "output_type": "stream",
     "text": [
      "[-7 -5]\n",
      "[9 9]\n"
     ]
    }
   ],
   "source": [
    "x = tf.Variable([1,2])\n",
    "a = tf.constant([8,7])\n",
    "sub = tf.subtract(x, a)\n",
    "add = tf.add(x,a)\n",
    "\n",
    "# NOTE: before execute a Variable, need initialization\n",
    "init = tf.global_variables_initializer()\n",
    "with tf.Session() as sess:\n",
    "    sess.run(init)\n",
    "    result3 = sess.run(sub)\n",
    "    print(result3)\n",
    "    result4 = sess.run(add)\n",
    "    print(result4)\n",
    "    "
   ]
  },
  {
   "cell_type": "code",
   "execution_count": 13,
   "metadata": {},
   "outputs": [
    {
     "name": "stdout",
     "output_type": "stream",
     "text": [
      "0\n",
      "1\n",
      "2\n",
      "3\n",
      "4\n",
      "5\n"
     ]
    }
   ],
   "source": [
    "state = tf.Variable(0, name = 'counter') #a Variable init as 0, named as counter\n",
    "current = tf.add(state, 1) # an operator:add 1 to the variable:state\n",
    "\n",
    "update = tf.assign(state, current) #state <- current\n",
    "\n",
    "#Note: Always remember to init operator if using Variable\n",
    "init = tf.global_variables_initializer()\n",
    "with tf.Session() as sess:\n",
    "    sess.run(init)\n",
    "    print(sess.run(state)) # print init value\n",
    "    \n",
    "    for _ in range(5):\n",
    "        sess.run(update)\n",
    "        print(sess.run(state)) \n"
   ]
  },
  {
   "cell_type": "markdown",
   "metadata": {},
   "source": [
    "- Fetch : Execute multiple operator in a same session"
   ]
  },
  {
   "cell_type": "code",
   "execution_count": 14,
   "metadata": {},
   "outputs": [
    {
     "name": "stdout",
     "output_type": "stream",
     "text": [
      "[9.0, 22.5]\n"
     ]
    }
   ],
   "source": [
    "in1 = tf.constant(3.0)\n",
    "in2 = tf.constant(6.0)\n",
    "in3 = tf.constant(2.5)\n",
    "add = tf.add(in1, in2)\n",
    "mul = tf.multiply(in3, add)\n",
    "with tf.Session() as sess:\n",
    "    result = sess.run([add, mul]) #Fetch\n",
    "    print(result)"
   ]
  },
  {
   "cell_type": "markdown",
   "metadata": {},
   "source": [
    " ##### Placeholder\n",
    " - Feed: Calculate then value"
   ]
  },
  {
   "cell_type": "code",
   "execution_count": 15,
   "metadata": {},
   "outputs": [
    {
     "name": "stdout",
     "output_type": "stream",
     "text": [
      "[7.2000003]\n"
     ]
    }
   ],
   "source": [
    "#Create two placeholder\n",
    "in1 = tf.placeholder(tf.float32)\n",
    "in2 = tf.placeholder(tf.float32)\n",
    "out = tf.multiply(in1, in2)\n",
    "with tf.Session() as sess:\n",
    "    feed_dict = {in1: [2.4], in2: [3.0]}\n",
    "    #pass in as a dictionary\n",
    "    print(sess.run(out, feed_dict))"
   ]
  },
  {
   "cell_type": "markdown",
   "metadata": {},
   "source": [
    "##### TensorBoard"
   ]
  },
  {
   "cell_type": "code",
   "execution_count": 17,
   "metadata": {},
   "outputs": [
    {
     "name": "stdout",
     "output_type": "stream",
     "text": [
      "5\n"
     ]
    }
   ],
   "source": [
    "a, b, c, d = tf.constant(1), tf.constant(2), tf.constant(3),tf.constant(4)\n",
    "add = tf.add(a,b)\n",
    "mul = tf.multiply(add, c)\n",
    "sub = tf.subtract(mul, d)\n",
    "\n",
    "with tf.Session() as sess:\n",
    "    fwrite = tf.summary.FileWriter('./graphs', sess.graph)\n",
    "    print(sess.run(sub))\n",
    "fwrite.close()\n"
   ]
  },
  {
   "cell_type": "markdown",
   "metadata": {},
   "source": [
    "tensorboard --logdir=/path/to/graphs/file\n",
    "\n",
    "http://localhost:6006"
   ]
  },
  {
   "cell_type": "code",
   "execution_count": null,
   "metadata": {},
   "outputs": [],
   "source": []
  },
  {
   "cell_type": "code",
   "execution_count": null,
   "metadata": {},
   "outputs": [],
   "source": []
  },
  {
   "cell_type": "code",
   "execution_count": null,
   "metadata": {},
   "outputs": [],
   "source": []
  }
 ],
 "metadata": {
  "kernelspec": {
   "display_name": "Python 3",
   "language": "python",
   "name": "python3"
  },
  "language_info": {
   "codemirror_mode": {
    "name": "ipython",
    "version": 3
   },
   "file_extension": ".py",
   "mimetype": "text/x-python",
   "name": "python",
   "nbconvert_exporter": "python",
   "pygments_lexer": "ipython3",
   "version": "3.5.5"
  }
 },
 "nbformat": 4,
 "nbformat_minor": 2
}
