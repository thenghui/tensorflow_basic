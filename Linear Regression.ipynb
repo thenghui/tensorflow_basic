{
 "cells": [
  {
   "cell_type": "code",
   "execution_count": 1,
   "metadata": {},
   "outputs": [
    {
     "name": "stderr",
     "output_type": "stream",
     "text": [
      "/Users/thenghui/anaconda3/lib/python3.5/importlib/_bootstrap.py:222: RuntimeWarning: compiletime version 3.6 of module 'tensorflow.python.framework.fast_tensor_util' does not match runtime version 3.5\n",
      "  return f(*args, **kwds)\n"
     ]
    }
   ],
   "source": [
    "import tensorflow as tf\n",
    "import numpy as np\n",
    "import matplotlib.pyplot as plt"
   ]
  },
  {
   "cell_type": "code",
   "execution_count": 2,
   "metadata": {},
   "outputs": [],
   "source": [
    "#train_X = np.asarray([1.1, 1.8, 3.2, 4.7, 5.9, 6.7, 7.5, 8.2])\n",
    "#train_Y = np.asarray([1.2, 2.1, 3.1, 4.6, 5.5, 6.9, 7.8, 8.3])\n",
    "\n",
    "#Prepare the data - generate randomly\n",
    "train_X = np.random.rand(200)\n",
    "noise = 0.1*np.random.randn(200) \n",
    "train_Y = train_X + noise\n",
    "\n"
   ]
  },
  {
   "cell_type": "code",
   "execution_count": 3,
   "metadata": {},
   "outputs": [],
   "source": [
    "#Model: Y = X*W + b\n",
    "X = tf.placeholder(tf.float32)\n",
    "Y = tf.placeholder(tf.float32)\n",
    "\n",
    "W = tf.Variable(-1., name=\"weight\")\n",
    "b = tf.Variable(-1., name=\"bias\")\n",
    "\n",
    "# linear model \n",
    "# activation = W*X + b\n",
    "activation = tf.add(tf.multiply(W, X), b)\n"
   ]
  },
  {
   "cell_type": "code",
   "execution_count": 4,
   "metadata": {},
   "outputs": [],
   "source": [
    "learning_rate = 0.01\n",
    "\n",
    "#cost = loss\n",
    "cost = tf.reduce_sum(tf.pow(activation - Y, 2))\n",
    "#cost = tf.reduce_mean(tf.square(activation - Y))\n",
    "optimizer = tf.train.GradientDescentOptimizer(learning_rate).minimize(cost)"
   ]
  },
  {
   "cell_type": "code",
   "execution_count": 5,
   "metadata": {},
   "outputs": [
    {
     "name": "stdout",
     "output_type": "stream",
     "text": [
      "Epoch: 0001 cost= 15.701971054 W= 0.123161115 b= 0.45548862\n",
      "Epoch: 0011 cost= 2.004942417 W= 0.94585997 b= 0.020726398\n",
      "Epoch: 0021 cost= 1.975413680 W= 0.99214035 b= -0.0044754995\n",
      "Epoch: 0031 cost= 1.976134777 W= 0.99476004 b= -0.0059020626\n",
      "Epoch: 0041 cost= 1.976183176 W= 0.99490935 b= -0.0059832805\n",
      "Epoch: 0051 cost= 1.976185799 W= 0.9949185 b= -0.0059882156\n",
      "Epoch: 0061 cost= 1.976185799 W= 0.9949191 b= -0.0059885187\n",
      "Epoch: 0071 cost= 1.976185799 W= 0.9949191 b= -0.0059885187\n",
      "Epoch: 0081 cost= 1.976185799 W= 0.9949191 b= -0.0059885187\n",
      "Epoch: 0091 cost= 1.976185799 W= 0.9949191 b= -0.0059885187\n",
      "Optimization Finished!\n",
      "cost= 1.9761858 W= 0.9949191 b= -0.0059885187\n"
     ]
    },
    {
     "data": {
      "image/png": "[encoded data removed]",
      "text/plain": [
       "<Figure size 432x288 with 1 Axes>"
      ]
     },
     "metadata": {},
     "output_type": "display_data"
    }
   ],
   "source": [
    "\n",
    "training_epochs = 100\n",
    "display_step = 10\n",
    "\n",
    "with tf.Session() as sess:\n",
    "    sess.run(tf.global_variables_initializer())\n",
    "    for epoch in range(training_epochs):\n",
    "        for (x, y) in zip(train_X, train_Y):\n",
    "            sess.run(optimizer, feed_dict={X: x, Y: y})\n",
    "        if epoch % display_step == 0:\n",
    "            print(\"Epoch:\", '%04d' % (epoch + 1), \"cost=\",\n",
    "                  \"{:.9f}\".format(sess.run(cost, feed_dict={X: train_X, Y: train_Y})), \"W=\", sess.run(W), \"b=\",\n",
    "                  sess.run(b))\n",
    "    print(\"Optimization Finished!\")\n",
    "    print(\"cost=\", sess.run(cost, feed_dict={X: train_X, Y: train_Y}), \"W=\", sess.run(W), \"b=\", sess.run(b))\n",
    "    \n",
    "    \n",
    "    #Tensorboard\n",
    "    writer = tf.summary.FileWriter('./graphs', sess.graph)\n",
    "\n",
    "    plt.scatter(train_X, train_Y, color='red', label='Original data')\n",
    "    plt.plot(train_X, sess.run(W) * train_X + sess.run(b), color='blue', label='Fitted line')\n",
    "    plt.show()\n",
    "writer.close()\n"
   ]
  },
  {
   "cell_type": "code",
   "execution_count": null,
   "metadata": {},
   "outputs": [],
   "source": []
  }
 ],
 "metadata": {
  "kernelspec": {
   "display_name": "Python 3",
   "language": "python",
   "name": "python3"
  },
  "language_info": {
   "codemirror_mode": {
    "name": "ipython",
    "version": 3
   },
   "file_extension": ".py",
   "mimetype": "text/x-python",
   "name": "python",
   "nbconvert_exporter": "python",
   "pygments_lexer": "ipython3",
   "version": "3.5.5"
  }
 },
 "nbformat": 4,
 "nbformat_minor": 2
}
