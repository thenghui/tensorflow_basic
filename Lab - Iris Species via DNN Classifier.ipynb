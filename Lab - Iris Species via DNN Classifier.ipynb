{
 "cells": [
  {
   "cell_type": "markdown",
   "metadata": {},
   "source": [
    "# Lab - Iris Species\n",
    "Reference: Iris dataset at https://archive.ics.uci.edu/ml/datasets/iris \n",
    "\n",
    "Exercise: \n",
    "1. Predict the Iris species on test data.\n",
    "\n",
    "\n"
   ]
  },
  {
   "cell_type": "code",
   "execution_count": 2,
   "metadata": {},
   "outputs": [
    {
     "name": "stderr",
     "output_type": "stream",
     "text": [
      "/Users/thenghui/anaconda3/lib/python3.5/importlib/_bootstrap.py:222: RuntimeWarning: compiletime version 3.6 of module 'tensorflow.python.framework.fast_tensor_util' does not match runtime version 3.5\n",
      "  return f(*args, **kwds)\n"
     ]
    }
   ],
   "source": [
    "import tensorflow as tf\n",
    "import numpy as np\n",
    "import pandas as pd\n",
    "import shutil\n",
    "import seaborn as sns"
   ]
  },
  {
   "cell_type": "markdown",
   "metadata": {},
   "source": [
    "## Read dataset"
   ]
  },
  {
   "cell_type": "code",
   "execution_count": 3,
   "metadata": {},
   "outputs": [
    {
     "data": {
      "text/plain": [
       "sepal_l       float64\n",
       "sepal_w       float64\n",
       "petal_l       float64\n",
       "petal_w       float64\n",
       "iris_class     object\n",
       "dtype: object"
      ]
     },
     "execution_count": 3,
     "metadata": {},
     "output_type": "execute_result"
    }
   ],
   "source": [
    "df = pd.read_csv(\"./data/iris/iris_dataset.csv\")\n",
    "df.dtypes"
   ]
  },
  {
   "cell_type": "code",
   "execution_count": 4,
   "metadata": {},
   "outputs": [
    {
     "data": {
      "text/plain": [
       "Iris-virginica     50\n",
       "Iris-setosa        50\n",
       "Iris-versicolor    50\n",
       "Name: iris_class, dtype: int64"
      ]
     },
     "execution_count": 4,
     "metadata": {},
     "output_type": "execute_result"
    }
   ],
   "source": [
    "df['iris_class'].value_counts()"
   ]
  },
  {
   "cell_type": "markdown",
   "metadata": {},
   "source": [
    "## Categorize string columns"
   ]
  },
  {
   "cell_type": "code",
   "execution_count": 21,
   "metadata": {},
   "outputs": [],
   "source": [
    "iris_mapping = {\n",
    "    'Iris-setosa': 0,\n",
    "    'Iris-virginica': 1,\n",
    "    'Iris-versicolor': 2,\n",
    "}"
   ]
  },
  {
   "cell_type": "code",
   "execution_count": 22,
   "metadata": {},
   "outputs": [],
   "source": [
    "df['iris_class_num'] = df['iris_class'].map(iris_mapping)"
   ]
  },
  {
   "cell_type": "code",
   "execution_count": 23,
   "metadata": {},
   "outputs": [
    {
     "data": {
      "text/html": [
       "<div>\n",
       "<style scoped>\n",
       "    .dataframe tbody tr th:only-of-type {\n",
       "        vertical-align: middle;\n",
       "    }\n",
       "\n",
       "    .dataframe tbody tr th {\n",
       "        vertical-align: top;\n",
       "    }\n",
       "\n",
       "    .dataframe thead th {\n",
       "        text-align: right;\n",
       "    }\n",
       "</style>\n",
       "<table border=\"1\" class=\"dataframe\">\n",
       "  <thead>\n",
       "    <tr style=\"text-align: right;\">\n",
       "      <th></th>\n",
       "      <th>sepal_l</th>\n",
       "      <th>sepal_w</th>\n",
       "      <th>petal_l</th>\n",
       "      <th>petal_w</th>\n",
       "      <th>iris_class</th>\n",
       "      <th>iris_class_num</th>\n",
       "    </tr>\n",
       "  </thead>\n",
       "  <tbody>\n",
       "    <tr>\n",
       "      <th>0</th>\n",
       "      <td>5.1</td>\n",
       "      <td>3.5</td>\n",
       "      <td>1.4</td>\n",
       "      <td>0.2</td>\n",
       "      <td>Iris-setosa</td>\n",
       "      <td>0</td>\n",
       "    </tr>\n",
       "    <tr>\n",
       "      <th>1</th>\n",
       "      <td>4.9</td>\n",
       "      <td>3.0</td>\n",
       "      <td>1.4</td>\n",
       "      <td>0.2</td>\n",
       "      <td>Iris-setosa</td>\n",
       "      <td>0</td>\n",
       "    </tr>\n",
       "    <tr>\n",
       "      <th>2</th>\n",
       "      <td>4.7</td>\n",
       "      <td>3.2</td>\n",
       "      <td>1.3</td>\n",
       "      <td>0.2</td>\n",
       "      <td>Iris-setosa</td>\n",
       "      <td>0</td>\n",
       "    </tr>\n",
       "    <tr>\n",
       "      <th>3</th>\n",
       "      <td>4.6</td>\n",
       "      <td>3.1</td>\n",
       "      <td>1.5</td>\n",
       "      <td>0.2</td>\n",
       "      <td>Iris-setosa</td>\n",
       "      <td>0</td>\n",
       "    </tr>\n",
       "    <tr>\n",
       "      <th>4</th>\n",
       "      <td>5.0</td>\n",
       "      <td>3.6</td>\n",
       "      <td>1.4</td>\n",
       "      <td>0.2</td>\n",
       "      <td>Iris-setosa</td>\n",
       "      <td>0</td>\n",
       "    </tr>\n",
       "  </tbody>\n",
       "</table>\n",
       "</div>"
      ],
      "text/plain": [
       "   sepal_l  sepal_w  petal_l  petal_w   iris_class  iris_class_num\n",
       "0      5.1      3.5      1.4      0.2  Iris-setosa               0\n",
       "1      4.9      3.0      1.4      0.2  Iris-setosa               0\n",
       "2      4.7      3.2      1.3      0.2  Iris-setosa               0\n",
       "3      4.6      3.1      1.5      0.2  Iris-setosa               0\n",
       "4      5.0      3.6      1.4      0.2  Iris-setosa               0"
      ]
     },
     "execution_count": 23,
     "metadata": {},
     "output_type": "execute_result"
    }
   ],
   "source": [
    "df.head()"
   ]
  },
  {
   "cell_type": "markdown",
   "metadata": {},
   "source": [
    "## Quick check on correlationship "
   ]
  },
  {
   "cell_type": "code",
   "execution_count": 24,
   "metadata": {},
   "outputs": [
    {
     "data": {
      "text/plain": [
       "<matplotlib.axes._subplots.AxesSubplot at 0x1a278752e8>"
      ]
     },
     "execution_count": 24,
     "metadata": {},
     "output_type": "execute_result"
    },
    {
     "data": {
      "image/png": "[encoded data removed]",
      "text/plain": [
       "<Figure size 432x288 with 2 Axes>"
      ]
     },
     "metadata": {},
     "output_type": "display_data"
    }
   ],
   "source": [
    "sns.heatmap(df.corr())"
   ]
  },
  {
   "cell_type": "markdown",
   "metadata": {},
   "source": [
    "## Features and Label"
   ]
  },
  {
   "cell_type": "code",
   "execution_count": 25,
   "metadata": {},
   "outputs": [],
   "source": [
    "FEATURES_NUM = ['sepal_l','sepal_w','petal_l','petal_w']\n",
    "LABEL = 'iris_class_num'"
   ]
  },
  {
   "cell_type": "markdown",
   "metadata": {},
   "source": [
    "## Split into dataset of: Train, Validation, Test (70%-20%-10%)"
   ]
  },
  {
   "cell_type": "code",
   "execution_count": 99,
   "metadata": {},
   "outputs": [
    {
     "name": "stdout",
     "output_type": "stream",
     "text": [
      "Train set: (105, 6)\n",
      "Validate set: (30, 6)\n",
      "Test set: (15, 6)\n"
     ]
    }
   ],
   "source": [
    "df_train0, df_valid0, df_test0 = np.split(df.sample(frac=1), [int(.7*len(df)), int(.9*len(df))])\n",
    "\n",
    "# Obtain only featured columns\n",
    "df_train = df_train0[['iris_class_num','sepal_l','sepal_w','petal_l','petal_w']]\n",
    "df_valid = df_valid0[['iris_class_num','sepal_l','sepal_w','petal_l','petal_w']]\n",
    "df_test = df_test0[['iris_class_num','sepal_l','sepal_w','petal_l','petal_w']]\n",
    "\n",
    "print('Train set: {}'.format(df_train0.shape))\n",
    "print('Validate set: {}'.format(df_valid0.shape))\n",
    "print('Test set: {}'.format(df_test0.shape))"
   ]
  },
  {
   "cell_type": "markdown",
   "metadata": {},
   "source": [
    "## Determine metrics for validation - Accuracy"
   ]
  },
  {
   "cell_type": "code",
   "execution_count": 100,
   "metadata": {},
   "outputs": [],
   "source": [
    "def print_accuracy(model, df):\n",
    "  metrics = model.evaluate(input_fn = tf.estimator.inputs.pandas_input_fn(\n",
    "    x = df,\n",
    "    y = df[LABEL],\n",
    "    batch_size = 128,\n",
    "    shuffle = False\n",
    "      \n",
    "  ))\n",
    "  print('Accuracy on dataset = {}'.format(metrics['accuracy']))\n",
    "    \n",
    "#print_accuracy(model, df_valid)"
   ]
  },
  {
   "cell_type": "markdown",
   "metadata": {},
   "source": [
    "## Model: DNNClassifier"
   ]
  },
  {
   "cell_type": "code",
   "execution_count": 102,
   "metadata": {},
   "outputs": [
    {
     "name": "stdout",
     "output_type": "stream",
     "text": [
      "INFO:tensorflow:Using config: {'_global_id_in_cluster': 0, '_num_ps_replicas': 0, '_task_id': 0, '_cluster_spec': <tensorflow.python.training.server_lib.ClusterSpec object at 0x1a27b81160>, '_is_chief': True, '_save_summary_steps': 100, '_device_fn': None, '_save_checkpoints_steps': None, '_keep_checkpoint_max': 5, '_save_checkpoints_secs': 600, '_evaluation_master': '', '_num_worker_replicas': 1, '_task_type': 'worker', '_model_dir': 'irisClass_trained', '_master': '', '_keep_checkpoint_every_n_hours': 10000, '_tf_random_seed': None, '_train_distribute': None, '_service': None, '_log_step_count_steps': 100, '_session_config': None}\n",
      "INFO:tensorflow:Calling model_fn.\n",
      "INFO:tensorflow:Done calling model_fn.\n",
      "INFO:tensorflow:Create CheckpointSaverHook.\n",
      "INFO:tensorflow:Graph was finalized.\n",
      "INFO:tensorflow:Running local_init_op.\n",
      "INFO:tensorflow:Done running local_init_op.\n",
      "INFO:tensorflow:Saving checkpoints for 0 into irisClass_trained/model.ckpt.\n",
      "INFO:tensorflow:loss = 139.75687, step = 1\n",
      "INFO:tensorflow:Saving checkpoints for 7 into irisClass_trained/model.ckpt.\n",
      "INFO:tensorflow:Loss for final step: 63.429256.\n",
      "INFO:tensorflow:Calling model_fn.\n",
      "INFO:tensorflow:Done calling model_fn.\n",
      "INFO:tensorflow:Starting evaluation at 2018-12-08-13:47:08\n",
      "INFO:tensorflow:Graph was finalized.\n",
      "INFO:tensorflow:Restoring parameters from irisClass_trained/model.ckpt-7\n",
      "INFO:tensorflow:Running local_init_op.\n",
      "INFO:tensorflow:Done running local_init_op.\n",
      "INFO:tensorflow:Finished evaluation at 2018-12-08-13:47:09\n",
      "INFO:tensorflow:Saving dict for global step 7: accuracy = 0.93333334, average_loss = 0.83497226, global_step = 7, loss = 25.049168\n",
      "INFO:tensorflow:Saving 'checkpoint_path' summary for global step 7: irisClass_trained/model.ckpt-7\n",
      "Accuracy on dataset = 0.9333333373069763\n"
     ]
    }
   ],
   "source": [
    "# DNNClassifier\n",
    "OUTDIR = 'irisClass_trained'\n",
    "tf.logging.set_verbosity(tf.logging.INFO)\n",
    "shutil.rmtree(OUTDIR, ignore_errors = True) # start fresh each time\n",
    "\n",
    "model = tf.estimator.DNNClassifier(\n",
    "    hidden_units = [4096, 512],\n",
    "    feature_columns = [tf.feature_column.numeric_column('sepal_l'),\n",
    "                       tf.feature_column.numeric_column('sepal_w'),\n",
    "                       tf.feature_column.numeric_column('petal_l'),\n",
    "                       tf.feature_column.numeric_column('petal_w')\n",
    "                      ], \n",
    "    activation_fn = tf.nn.relu,\n",
    "    n_classes=3,\n",
    "    optimizer=tf.train.AdamOptimizer(\n",
    "      learning_rate=0.0001\n",
    "    ),\n",
    "    model_dir = OUTDIR,\n",
    "    config = tf.estimator.RunConfig()\n",
    ")\n",
    "\n",
    "model.train(input_fn = tf.estimator.inputs.pandas_input_fn(\n",
    "    x = df_train,\n",
    "    y = df_train[LABEL],\n",
    "    batch_size = 128,\n",
    "    num_epochs = 8,\n",
    "    shuffle = True\n",
    "  ));\n",
    "\n",
    "print_accuracy(model, df_valid)"
   ]
  },
  {
   "cell_type": "markdown",
   "metadata": {},
   "source": [
    "## Prediction"
   ]
  },
  {
   "cell_type": "code",
   "execution_count": 105,
   "metadata": {},
   "outputs": [
    {
     "name": "stdout",
     "output_type": "stream",
     "text": [
      "INFO:tensorflow:Calling model_fn.\n",
      "INFO:tensorflow:Done calling model_fn.\n",
      "INFO:tensorflow:Graph was finalized.\n",
      "INFO:tensorflow:Restoring parameters from irisClass_trained/model.ckpt-7\n",
      "INFO:tensorflow:Running local_init_op.\n",
      "INFO:tensorflow:Done running local_init_op.\n",
      "{'probabilities': array([0.39789128, 0.25546366, 0.34664506], dtype=float32), 'classes': array([b'0'], dtype=object), 'logits': array([ 0.06438842, -0.3787102 , -0.07348903], dtype=float32), 'class_ids': array([0])}\n",
      "{'probabilities': array([0.18544722, 0.40469384, 0.40985888], dtype=float32), 'classes': array([b'2'], dtype=object), 'logits': array([-0.6832802 ,  0.09708035,  0.10976238], dtype=float32), 'class_ids': array([2])}\n",
      "{'probabilities': array([0.15344556, 0.46936408, 0.3771904 ], dtype=float32), 'classes': array([b'1'], dtype=object), 'logits': array([-0.834246  ,  0.28378695,  0.06515827], dtype=float32), 'class_ids': array([1])}\n",
      "{'probabilities': array([0.11267672, 0.49322987, 0.3940934 ], dtype=float32), 'classes': array([b'1'], dtype=object), 'logits': array([-1.1064407 ,  0.3700118 ,  0.14562432], dtype=float32), 'class_ids': array([1])}\n",
      "{'probabilities': array([0.18371484, 0.41104358, 0.40524155], dtype=float32), 'classes': array([b'1'], dtype=object), 'logits': array([-0.6928185 ,  0.11249594,  0.09827998], dtype=float32), 'class_ids': array([1])}\n",
      "{'probabilities': array([0.14067797, 0.4804335 , 0.37888852], dtype=float32), 'classes': array([b'1'], dtype=object), 'logits': array([-0.92468536,  0.30353   ,  0.06608316], dtype=float32), 'class_ids': array([1])}\n",
      "{'probabilities': array([0.14450596, 0.46987757, 0.3856165 ], dtype=float32), 'classes': array([b'1'], dtype=object), 'logits': array([-0.9063036 ,  0.27284783,  0.07521905], dtype=float32), 'class_ids': array([1])}\n",
      "{'probabilities': array([0.42515227, 0.23429418, 0.34055355], dtype=float32), 'classes': array([b'0'], dtype=object), 'logits': array([ 0.15092088, -0.44494903, -0.07095405], dtype=float32), 'class_ids': array([0])}\n",
      "{'probabilities': array([0.14622916, 0.442348  , 0.41142282], dtype=float32), 'classes': array([b'1'], dtype=object), 'logits': array([-0.8991841 ,  0.20773779,  0.13526233], dtype=float32), 'class_ids': array([1])}\n",
      "{'probabilities': array([0.3977801 , 0.2545857 , 0.34763417], dtype=float32), 'classes': array([b'0'], dtype=object), 'logits': array([ 0.07988146, -0.36638036, -0.05486712], dtype=float32), 'class_ids': array([0])}\n",
      "{'probabilities': array([0.1826036, 0.3960631, 0.4213333], dtype=float32), 'classes': array([b'2'], dtype=object), 'logits': array([-0.70682055,  0.06743529,  0.12928602], dtype=float32), 'class_ids': array([2])}\n",
      "{'probabilities': array([0.43035668, 0.23487733, 0.334766  ], dtype=float32), 'classes': array([b'0'], dtype=object), 'logits': array([ 0.16703421, -0.43851677, -0.08414838], dtype=float32), 'class_ids': array([0])}\n",
      "{'probabilities': array([0.11608207, 0.49302492, 0.390893  ], dtype=float32), 'classes': array([b'1'], dtype=object), 'logits': array([-1.086474 ,  0.3597883,  0.1276625], dtype=float32), 'class_ids': array([1])}\n",
      "{'probabilities': array([0.4310072 , 0.2317341 , 0.33725867], dtype=float32), 'classes': array([b'0'], dtype=object), 'logits': array([ 0.16315009, -0.45738417, -0.08212447], dtype=float32), 'class_ids': array([0])}\n",
      "{'probabilities': array([0.21712631, 0.37175578, 0.41111788], dtype=float32), 'classes': array([b'2'], dtype=object), 'logits': array([-0.5452949 , -0.00753695,  0.0931059 ], dtype=float32), 'class_ids': array([2])}\n"
     ]
    }
   ],
   "source": [
    "predictions = model.predict(input_fn = tf.estimator.inputs.pandas_input_fn(\n",
    "#    x = pd.DataFrame({\n",
    "#                      'Hour':[9,10,12],\n",
    "#                      'Minute':[0,0,0],\n",
    "#                      'IsoWeekday':[4,4,5]}),\n",
    "    x = df_test,\n",
    "    y = None,\n",
    "    batch_size = 128,\n",
    "    shuffle = False\n",
    "  ))\n",
    "\n",
    "for items in predictions:\n",
    "  print(items)"
   ]
  },
  {
   "cell_type": "code",
   "execution_count": 104,
   "metadata": {},
   "outputs": [
    {
     "data": {
      "text/html": [
       "<div>\n",
       "<style scoped>\n",
       "    .dataframe tbody tr th:only-of-type {\n",
       "        vertical-align: middle;\n",
       "    }\n",
       "\n",
       "    .dataframe tbody tr th {\n",
       "        vertical-align: top;\n",
       "    }\n",
       "\n",
       "    .dataframe thead th {\n",
       "        text-align: right;\n",
       "    }\n",
       "</style>\n",
       "<table border=\"1\" class=\"dataframe\">\n",
       "  <thead>\n",
       "    <tr style=\"text-align: right;\">\n",
       "      <th></th>\n",
       "      <th>iris_class_num</th>\n",
       "      <th>sepal_l</th>\n",
       "      <th>sepal_w</th>\n",
       "      <th>petal_l</th>\n",
       "      <th>petal_w</th>\n",
       "    </tr>\n",
       "  </thead>\n",
       "  <tbody>\n",
       "    <tr>\n",
       "      <th>44</th>\n",
       "      <td>0</td>\n",
       "      <td>5.1</td>\n",
       "      <td>3.8</td>\n",
       "      <td>1.9</td>\n",
       "      <td>0.4</td>\n",
       "    </tr>\n",
       "    <tr>\n",
       "      <th>73</th>\n",
       "      <td>2</td>\n",
       "      <td>6.1</td>\n",
       "      <td>2.8</td>\n",
       "      <td>4.7</td>\n",
       "      <td>1.2</td>\n",
       "    </tr>\n",
       "    <tr>\n",
       "      <th>142</th>\n",
       "      <td>1</td>\n",
       "      <td>5.8</td>\n",
       "      <td>2.7</td>\n",
       "      <td>5.1</td>\n",
       "      <td>1.9</td>\n",
       "    </tr>\n",
       "    <tr>\n",
       "      <th>122</th>\n",
       "      <td>1</td>\n",
       "      <td>7.7</td>\n",
       "      <td>2.8</td>\n",
       "      <td>6.7</td>\n",
       "      <td>2.0</td>\n",
       "    </tr>\n",
       "    <tr>\n",
       "      <th>63</th>\n",
       "      <td>2</td>\n",
       "      <td>6.1</td>\n",
       "      <td>2.9</td>\n",
       "      <td>4.7</td>\n",
       "      <td>1.4</td>\n",
       "    </tr>\n",
       "    <tr>\n",
       "      <th>140</th>\n",
       "      <td>1</td>\n",
       "      <td>6.7</td>\n",
       "      <td>3.1</td>\n",
       "      <td>5.6</td>\n",
       "      <td>2.4</td>\n",
       "    </tr>\n",
       "    <tr>\n",
       "      <th>124</th>\n",
       "      <td>1</td>\n",
       "      <td>6.7</td>\n",
       "      <td>3.3</td>\n",
       "      <td>5.7</td>\n",
       "      <td>2.1</td>\n",
       "    </tr>\n",
       "    <tr>\n",
       "      <th>28</th>\n",
       "      <td>0</td>\n",
       "      <td>5.2</td>\n",
       "      <td>3.4</td>\n",
       "      <td>1.4</td>\n",
       "      <td>0.2</td>\n",
       "    </tr>\n",
       "    <tr>\n",
       "      <th>129</th>\n",
       "      <td>1</td>\n",
       "      <td>7.2</td>\n",
       "      <td>3.0</td>\n",
       "      <td>5.8</td>\n",
       "      <td>1.6</td>\n",
       "    </tr>\n",
       "    <tr>\n",
       "      <th>29</th>\n",
       "      <td>0</td>\n",
       "      <td>4.7</td>\n",
       "      <td>3.2</td>\n",
       "      <td>1.6</td>\n",
       "      <td>0.2</td>\n",
       "    </tr>\n",
       "    <tr>\n",
       "      <th>76</th>\n",
       "      <td>2</td>\n",
       "      <td>6.8</td>\n",
       "      <td>2.8</td>\n",
       "      <td>4.8</td>\n",
       "      <td>1.4</td>\n",
       "    </tr>\n",
       "    <tr>\n",
       "      <th>4</th>\n",
       "      <td>0</td>\n",
       "      <td>5.0</td>\n",
       "      <td>3.6</td>\n",
       "      <td>1.4</td>\n",
       "      <td>0.2</td>\n",
       "    </tr>\n",
       "    <tr>\n",
       "      <th>105</th>\n",
       "      <td>1</td>\n",
       "      <td>7.6</td>\n",
       "      <td>3.0</td>\n",
       "      <td>6.6</td>\n",
       "      <td>2.1</td>\n",
       "    </tr>\n",
       "    <tr>\n",
       "      <th>48</th>\n",
       "      <td>0</td>\n",
       "      <td>5.3</td>\n",
       "      <td>3.7</td>\n",
       "      <td>1.5</td>\n",
       "      <td>0.2</td>\n",
       "    </tr>\n",
       "    <tr>\n",
       "      <th>71</th>\n",
       "      <td>2</td>\n",
       "      <td>6.1</td>\n",
       "      <td>2.8</td>\n",
       "      <td>4.0</td>\n",
       "      <td>1.3</td>\n",
       "    </tr>\n",
       "  </tbody>\n",
       "</table>\n",
       "</div>"
      ],
      "text/plain": [
       "     iris_class_num  sepal_l  sepal_w  petal_l  petal_w\n",
       "44                0      5.1      3.8      1.9      0.4\n",
       "73                2      6.1      2.8      4.7      1.2\n",
       "142               1      5.8      2.7      5.1      1.9\n",
       "122               1      7.7      2.8      6.7      2.0\n",
       "63                2      6.1      2.9      4.7      1.4\n",
       "140               1      6.7      3.1      5.6      2.4\n",
       "124               1      6.7      3.3      5.7      2.1\n",
       "28                0      5.2      3.4      1.4      0.2\n",
       "129               1      7.2      3.0      5.8      1.6\n",
       "29                0      4.7      3.2      1.6      0.2\n",
       "76                2      6.8      2.8      4.8      1.4\n",
       "4                 0      5.0      3.6      1.4      0.2\n",
       "105               1      7.6      3.0      6.6      2.1\n",
       "48                0      5.3      3.7      1.5      0.2\n",
       "71                2      6.1      2.8      4.0      1.3"
      ]
     },
     "execution_count": 104,
     "metadata": {},
     "output_type": "execute_result"
    }
   ],
   "source": [
    "df_test.head(30)"
   ]
  },
  {
   "cell_type": "code",
   "execution_count": null,
   "metadata": {},
   "outputs": [],
   "source": []
  }
 ],
 "metadata": {
  "kernelspec": {
   "display_name": "Python 3",
   "language": "python",
   "name": "python3"
  },
  "language_info": {
   "codemirror_mode": {
    "name": "ipython",
    "version": 3
   },
   "file_extension": ".py",
   "mimetype": "text/x-python",
   "name": "python",
   "nbconvert_exporter": "python",
   "pygments_lexer": "ipython3",
   "version": "3.5.5"
  }
 },
 "nbformat": 4,
 "nbformat_minor": 2
}
